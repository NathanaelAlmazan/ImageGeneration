{
 "cells": [
  {
   "cell_type": "code",
   "execution_count": 3,
   "metadata": {},
   "outputs": [],
   "source": [
    "import os\n",
    "import copy\n",
    "import torch\n",
    "import torchvision\n",
    "import numpy as np\n",
    "import matplotlib.pyplot as plt\n",
    "\n",
    "from torchsummary import summary\n",
    "from fastprogress import progress_bar\n",
    "from .auto_encoder import encode_images, decode_images"
   ]
  },
  {
   "cell_type": "markdown",
   "metadata": {},
   "source": [
    "### Load Dataset"
   ]
  },
  {
   "cell_type": "code",
   "execution_count": null,
   "metadata": {},
   "outputs": [],
   "source": [
    "# define image transformation\n",
    "transform = torchvision.transforms.Compose([\n",
    "    torchvision.transforms.Resize((128, 128)),\n",
    "    torchvision.transforms.ToTensor(),\n",
    "    torchvision.transforms.Normalize((0.5, 0.5, 0.5), (0.5, 0.5, 0.5))\n",
    "])\n",
    "\n",
    "# download dataset\n",
    "train_dataset = torchvision.datasets.SUN397(root='dataset', transform=transform, download=True)\n",
    "\n",
    "# # select classes\n",
    "classes_idx = [idx for idx, label in enumerate(train_dataset.classes) if label in\n",
    "    ['bedroom', 'beach', 'skyscraper', 'lighthouse', 'windmill', 'mountain', 'castle', 'rice_paddy', 'forest_path', 'bridge']]\n",
    "\n",
    "# filter dataset by classes\n",
    "train_dataset = torch.utils.data.Subset(train_dataset, [idx for idx, label in enumerate(train_dataset._labels) if label in classes_idx])\n",
    "\n",
    "print('Dataset size:', len(train_dataset))"
   ]
  },
  {
   "cell_type": "code",
   "execution_count": null,
   "metadata": {},
   "outputs": [],
   "source": [
    "train_loader = torch.utils.data.DataLoader(train_dataset, batch_size=128, shuffle=True)\n",
    "\n",
    "# extract a batch of images\n",
    "batch_images, batch_labels = next(iter(train_loader))\n",
    "# display a grid of images\n",
    "plt.figure(figsize=(16, 12))\n",
    "plt.imshow(np.transpose(torchvision.utils.make_grid(batch_images[:8], padding=0).numpy(), (1, 2, 0)))\n",
    "plt.axis('off')\n",
    "plt.show()"
   ]
  },
  {
   "cell_type": "code",
   "execution_count": null,
   "metadata": {},
   "outputs": [],
   "source": [
    "# replace labels\n",
    "replace_dict = { label: idx for idx, label in enumerate(classes_idx) }\n",
    "\n",
    "sample = torch.tensor([replace_dict.get(i, i) for i in batch_labels.tolist()])\n",
    "\n",
    "print('Sample labels:', sample[:10])"
   ]
  },
  {
   "cell_type": "markdown",
   "metadata": {},
   "source": [
    "#### Attention Blocks"
   ]
  },
  {
   "cell_type": "code",
   "execution_count": null,
   "metadata": {},
   "outputs": [],
   "source": [
    "class SelfAttention(torch.nn.Module):\n",
    "    def __init__(self, channels):\n",
    "        super(SelfAttention, self).__init__()\n",
    "        self.channels = channels\n",
    "        self.mha = torch.nn.MultiheadAttention(channels, num_heads=1, batch_first=True)\n",
    "        self.ln = torch.nn.LayerNorm([channels])\n",
    "        self.ff_self = torch.nn.Sequential(\n",
    "            torch.nn.LayerNorm([channels]),\n",
    "            torch.nn.Linear(channels, channels),\n",
    "            torch.nn.GELU(),\n",
    "            torch.nn.Linear(channels, channels),\n",
    "        )\n",
    "\n",
    "    def forward(self, x):\n",
    "        size = x.shape[-1]\n",
    "        x = x.view(-1, self.channels, size * size).swapaxes(1, 2)\n",
    "        x_ln = self.ln(x)\n",
    "        attention_value, _ = self.mha(x_ln, x_ln, x_ln)\n",
    "        attention_value = attention_value + x\n",
    "        attention_value = self.ff_self(attention_value) + attention_value\n",
    "        return attention_value.swapaxes(2, 1).view(-1, self.channels, size, size)"
   ]
  },
  {
   "cell_type": "markdown",
   "metadata": {},
   "source": [
    "#### Residual Blocks"
   ]
  },
  {
   "cell_type": "code",
   "execution_count": null,
   "metadata": {},
   "outputs": [],
   "source": [
    "class DoubleConv(torch.nn.Module):\n",
    "    def __init__(self, in_channels, out_channels, mid_channels=None, residual=False):\n",
    "        super().__init__()\n",
    "        self.residual = residual\n",
    "        if not mid_channels:\n",
    "            mid_channels = out_channels\n",
    "        self.double_conv = torch.nn.Sequential(\n",
    "            torch.nn.Conv2d(in_channels, mid_channels, kernel_size=3, padding=1, bias=False),\n",
    "            torch.nn.GroupNorm(1, mid_channels),\n",
    "            torch.nn.GELU(),\n",
    "            torch.nn.Conv2d(mid_channels, out_channels, kernel_size=3, padding=1, bias=False),\n",
    "            torch.nn.GroupNorm(1, out_channels)\n",
    "        )\n",
    "\n",
    "    def forward(self, x):\n",
    "        if self.residual:\n",
    "            return torch.nn.functional.gelu(x + self.double_conv(x))\n",
    "        else:\n",
    "            return self.double_conv(x)"
   ]
  },
  {
   "cell_type": "code",
   "execution_count": null,
   "metadata": {},
   "outputs": [],
   "source": [
    "class Down(torch.nn.Module):\n",
    "    def __init__(self, in_channels, out_channels, emb_dim=256):\n",
    "        super().__init__()\n",
    "        self.max_pool_conv = torch.nn.Sequential(\n",
    "            torch.nn.MaxPool2d(2),\n",
    "            DoubleConv(in_channels, in_channels, residual=True),\n",
    "            DoubleConv(in_channels, out_channels)\n",
    "        )\n",
    "\n",
    "        self.emb_layer = torch.nn.Sequential(\n",
    "            torch.nn.SiLU(),\n",
    "            torch.nn.Linear(emb_dim, out_channels)\n",
    "        )\n",
    "\n",
    "    def forward(self, x, t):\n",
    "        x = self.max_pool_conv(x)\n",
    "        emb = self.emb_layer(t)[:, :, None, None].repeat(1, 1, x.shape[-2], x.shape[-1])\n",
    "        return x + emb"
   ]
  },
  {
   "cell_type": "code",
   "execution_count": null,
   "metadata": {},
   "outputs": [],
   "source": [
    "class Up(torch.nn.Module):\n",
    "    def __init__(self, in_channels, out_channels, emb_dim=256):\n",
    "        super().__init__()\n",
    "\n",
    "        self.up = torch.nn.Upsample(scale_factor=2, mode=\"bilinear\", align_corners=True)\n",
    "        self.conv = torch.nn.Sequential(\n",
    "            DoubleConv(in_channels, in_channels, residual=True),\n",
    "            DoubleConv(in_channels, out_channels, in_channels // 2)\n",
    "        )\n",
    "\n",
    "        self.emb_layer = torch.nn.Sequential(\n",
    "            torch.nn.SiLU(),\n",
    "            torch.nn.Linear(emb_dim, out_channels)\n",
    "        )\n",
    "\n",
    "    def forward(self, x, skip_x, t):\n",
    "        x = self.up(x)\n",
    "        x = torch.cat([skip_x, x], dim=1)\n",
    "        x = self.conv(x)\n",
    "        emb = self.emb_layer(t)[:, :, None, None].repeat(1, 1, x.shape[-2], x.shape[-1])\n",
    "        return x + emb"
   ]
  },
  {
   "cell_type": "markdown",
   "metadata": {},
   "source": [
    "#### U-Net Transformer"
   ]
  },
  {
   "cell_type": "code",
   "execution_count": null,
   "metadata": {},
   "outputs": [],
   "source": [
    "class UNetTransformer(torch.nn.Module):\n",
    "    def __init__(self, c_in=3, c_out=3, time_dim=256, num_classes=None):\n",
    "        super().__init__()\n",
    "        # embeddings\n",
    "        self.time_dim = time_dim\n",
    "        self.label_emb = torch.nn.Embedding(num_classes, time_dim)\n",
    "        # encoder\n",
    "        self.inc = DoubleConv(c_in, 64)\n",
    "        self.down1 = Down(64, 128)\n",
    "        self.sa1 = SelfAttention(128)\n",
    "        self.down2 = Down(128, 256)\n",
    "        self.sa2 = SelfAttention(256)\n",
    "        self.down3 = Down(256, 256)\n",
    "        self.sa3 = SelfAttention(256)\n",
    "        # bottleneck\n",
    "        self.bot1 = DoubleConv(256, 512)\n",
    "        self.bot2 = DoubleConv(512, 256)\n",
    "        # decoder\n",
    "        self.up1 = Up(512, 128)\n",
    "        self.sa4 = SelfAttention(128)\n",
    "        self.up2 = Up(256, 64)\n",
    "        self.sa5 = SelfAttention(64)\n",
    "        self.up3 = Up(128, 64)\n",
    "        self.sa6 = SelfAttention(64)\n",
    "        self.out_c = torch.nn.Conv2d(64, c_out, kernel_size=1)\n",
    "\n",
    "    def pos_encoding(self, t, channels):\n",
    "        inv_freq = 1.0 / (\n",
    "            10000\n",
    "            ** (torch.arange(0, channels, 2).float().cuda() / channels)\n",
    "        )\n",
    "        pos_enc_a = torch.sin(t.repeat(1, channels // 2) * inv_freq)\n",
    "        pos_enc_b = torch.cos(t.repeat(1, channels // 2) * inv_freq)\n",
    "        pos_enc = torch.cat([pos_enc_a, pos_enc_b], dim=-1)\n",
    "        return pos_enc\n",
    "\n",
    "    def forward(self, x, t, y=None):\n",
    "        # time embedding\n",
    "        t = t.unsqueeze(-1)\n",
    "        t = self.pos_encoding(t, self.time_dim)\n",
    "        # label embedding\n",
    "        if y is not None:\n",
    "            t += self.label_emb(y)\n",
    "        # encoder\n",
    "        x1 = self.inc(x)\n",
    "        x2 = self.down1(x1, t)\n",
    "        x2 = self.sa1(x2)\n",
    "        x3 = self.down2(x2, t)\n",
    "        x3 = self.sa2(x3)\n",
    "        x4 = self.down3(x3, t)\n",
    "        x4 = self.sa3(x4)\n",
    "        # bottleneck\n",
    "        x4 = self.bot1(x4)\n",
    "        x4 = self.bot2(x4)\n",
    "        # decoder\n",
    "        x = self.up1(x4, x3, t)\n",
    "        x = self.sa4(x)\n",
    "        x = self.up2(x, x2, t)\n",
    "        x = self.sa5(x)\n",
    "        x = self.up3(x, x1, t)\n",
    "        x = self.sa6(x)\n",
    "        output = self.out_c(x)\n",
    "\n",
    "        return output"
   ]
  },
  {
   "cell_type": "code",
   "execution_count": null,
   "metadata": {},
   "outputs": [],
   "source": [
    "# model initializations\n",
    "model = UNetTransformer(c_in=4, c_out=4, num_classes=10).float().cuda()\n",
    "ema_model = copy.deepcopy(model).eval().requires_grad_(False)\n",
    "\n",
    "sample = torch.rand((64, 4, 32, 32)).float().cuda()\n",
    "output = model(sample)\n",
    "\n",
    "print('Output shape:', output.shape)"
   ]
  },
  {
   "cell_type": "code",
   "execution_count": null,
   "metadata": {},
   "outputs": [],
   "source": [
    "summary(model, input_size=(4, 32, 32))"
   ]
  },
  {
   "cell_type": "markdown",
   "metadata": {},
   "source": [
    "#### Exponential Moving Average"
   ]
  },
  {
   "cell_type": "code",
   "execution_count": null,
   "metadata": {},
   "outputs": [],
   "source": [
    "class EMA:\n",
    "    def __init__(self, beta):\n",
    "        super().__init__()\n",
    "        self.beta = beta\n",
    "        self.step = 0\n",
    "\n",
    "    def update_model_average(self, ma_model, current_model):\n",
    "        for current_params, ma_params in zip(current_model.parameters(), ma_model.parameters()):\n",
    "            old_weight, up_weight = ma_params.data, current_params.data\n",
    "            ma_params.data = self.update_average(old_weight, up_weight)\n",
    "\n",
    "    def update_average(self, old, new):\n",
    "        if old is None:\n",
    "            return new\n",
    "        return old * self.beta + (1 - self.beta) * new\n",
    "\n",
    "    def step_ema(self, ema_model, model, step_start_ema=2000):\n",
    "        if self.step < step_start_ema:\n",
    "            self.reset_parameters(ema_model, model)\n",
    "            self.step += 1\n",
    "            return\n",
    "        self.update_model_average(ema_model, model)\n",
    "        self.step += 1\n",
    "\n",
    "    def reset_parameters(self, ema_model, model):\n",
    "        ema_model.load_state_dict(model.state_dict())"
   ]
  },
  {
   "cell_type": "markdown",
   "metadata": {},
   "source": [
    "#### Train Diffusion Model"
   ]
  },
  {
   "cell_type": "code",
   "execution_count": 5,
   "metadata": {},
   "outputs": [],
   "source": [
    "# hyperparameters\n",
    "num_classes = 10\n",
    "noise_steps = 1000\n",
    "beta_start = 1e-4\n",
    "beta_end = 0.02\n",
    "img_size = 256\n",
    "total_epochs = 100\n",
    "learning_rate = 5e-3\n",
    "log_every_epoch = 10"
   ]
  },
  {
   "cell_type": "markdown",
   "metadata": {},
   "source": [
    "##### Noise Scheduler"
   ]
  },
  {
   "cell_type": "code",
   "execution_count": 6,
   "metadata": {},
   "outputs": [],
   "source": [
    "beta = torch.linspace(beta_start, beta_end, noise_steps).float().cuda()\n",
    "alpha = 1. - beta\n",
    "alpha_hat = torch.cumprod(alpha, dim=0).float().cuda()\n",
    "\n",
    "def noise_images(x, t):\n",
    "    eps = torch.randn_like(x)\n",
    "    sqrt_alpha_hat = torch.sqrt(alpha_hat[t])[:, None, None, None]\n",
    "    sqrt_one_minus_alpha_hat = torch.sqrt(1 - alpha_hat[t])[:, None, None, None]\n",
    "\n",
    "    return sqrt_alpha_hat * x + sqrt_one_minus_alpha_hat * eps, eps"
   ]
  },
  {
   "cell_type": "markdown",
   "metadata": {},
   "source": [
    "##### Optimizers"
   ]
  },
  {
   "cell_type": "code",
   "execution_count": null,
   "metadata": {},
   "outputs": [],
   "source": [
    "optimizer = torch.optim.AdamW(model.parameters(), lr=learning_rate, eps=1e-5)\n",
    "scheduler = torch.optim.lr_scheduler.OneCycleLR(optimizer, max_lr=learning_rate, steps_per_epoch=len(train_loader), epochs=total_epochs)\n",
    "ema = EMA(0.995)\n",
    "scaler = torch.cuda.amp.GradScaler()"
   ]
  },
  {
   "cell_type": "markdown",
   "metadata": {},
   "source": [
    "#### Callbacks"
   ]
  },
  {
   "cell_type": "code",
   "execution_count": null,
   "metadata": {},
   "outputs": [],
   "source": [
    "def save_checkpoint(checkpoint_path=\"diffusion_models\"):\n",
    "    torch.save(model.state_dict(), os.path.join(checkpoint_path, f\"ckpt.pt\"))\n",
    "    torch.save(ema_model.state_dict(), os.path.join(checkpoint_path, f\"ema_ckpt.pt\"))\n",
    "\n",
    "def generate_samples(labels, cfg_scale=3):\n",
    "    ema_model.eval()\n",
    "    with torch.inference_mode():\n",
    "        x = torch.randn((len(labels), 4, img_size, img_size)).float().cuda()\n",
    "        for i in progress_bar(reversed(range(1, noise_steps)), total=noise_steps-1, leave=False):\n",
    "            t = torch.full((len(labels),), i).long().cuda()\n",
    "            predicted_noise = ema_model(x, t, labels)\n",
    "            if cfg_scale > 0:\n",
    "                unconditional_noise = ema_model(x, t, None)\n",
    "                predicted_noise = torch.lerp(unconditional_noise, predicted_noise, cfg_scale)\n",
    "            \n",
    "            sample_alpha = alpha[t][:, None, None, None]\n",
    "            sample_alpha_hat = alpha_hat[t][:, None, None, None]\n",
    "            sample_beta = beta[t][:, None, None, None]\n",
    "            sample_noise = torch.randn_like(x) if i > 1 else torch.zeros_like(x)\n",
    "\n",
    "            x = 1 / torch.sqrt(sample_alpha) * (x - ((1 - sample_alpha) / (torch.sqrt(1 - sample_alpha_hat))) * predicted_noise) + torch.sqrt(sample_beta) * sample_noise\n",
    "    # rescale generated image\n",
    "    x = decode_images(x)\n",
    "    x = (x.clamp(-1, 1) + 1) / 2\n",
    "    x = (x * 255).type(torch.uint8)\n",
    "    return x\n",
    "\n",
    "def log_samples():\n",
    "    labels = torch.arange(num_classes).long().cuda()\n",
    "    sample_grid = generate_samples(labels)\n",
    "    sample_grid = torchvision.utils.make_grid(sample_grid, nrow=(num_classes // 2))\n",
    "\n",
    "    plt.imshow(sample_grid.cpu().permute(1, 2, 0).numpy(), vmin=0., vmax=1.)\n",
    "    plt.axis('off')\n",
    "    plt.show()"
   ]
  },
  {
   "cell_type": "code",
   "execution_count": null,
   "metadata": {},
   "outputs": [],
   "source": [
    "for epoch in range(total_epochs):\n",
    "    model.train()\n",
    "\n",
    "    avg_loss = 0.\n",
    "    p_bar = progress_bar(train_loader, leave=False)\n",
    "    for images, labels in p_bar:\n",
    "        images = encode_images(images)\n",
    "        labels = torch.tensor([replace_dict.get(i, i) for i in labels.tolist()]).cuda()\n",
    "        \n",
    "        with torch.autocast(\"cuda\") and torch.enable_grad():\n",
    "            # noised images\n",
    "            t = torch.randint(low=1, high=noise_steps, size=(images.shape[0],)).cuda()\n",
    "            x_t, noise = noise_images(images, t)\n",
    "            # dropout\n",
    "            if np.random.random() < 0.1:\n",
    "                labels = None\n",
    "            # forward pass\n",
    "            predicted_noise = model(x_t, t, labels)\n",
    "            # calculate loss\n",
    "            loss = torch.nn.functional.mse_loss(noise, predicted_noise)\n",
    "        # backward pass\n",
    "        optimizer.zero_grad()\n",
    "        scaler.scale(loss).backward()\n",
    "        scaler.step(optimizer)\n",
    "        scaler.update()\n",
    "        ema.step_ema(ema_model, model)\n",
    "        scheduler.step()\n",
    "        # logger\n",
    "        p_bar.comment = f\"loss: {loss.item():.2e}, learning_rate: {scheduler.get_last_lr()[0]:.2e}\"\n",
    "        avg_loss += loss\n",
    "    print(f\"loss: {avg_loss.mean().item():.2e}, learning_rate: {scheduler.get_last_lr()[0]:.2e}\")\n",
    "\n",
    "    # callbacks\n",
    "    if (epoch + 1) % log_every_epoch == 0:\n",
    "        log_samples()\n",
    "        save_checkpoint(checkpoint_path=\"diffusion_models\")"
   ]
  },
  {
   "cell_type": "code",
   "execution_count": null,
   "metadata": {},
   "outputs": [],
   "source": [
    "save_checkpoint(checkpoint_path=\"diffusion_models\")"
   ]
  },
  {
   "cell_type": "markdown",
   "metadata": {},
   "source": [
    "#### Test Models"
   ]
  },
  {
   "cell_type": "code",
   "execution_count": null,
   "metadata": {},
   "outputs": [],
   "source": [
    "log_samples()"
   ]
  }
 ],
 "metadata": {
  "kernelspec": {
   "display_name": "torch",
   "language": "python",
   "name": "python3"
  },
  "language_info": {
   "codemirror_mode": {
    "name": "ipython",
    "version": 3
   },
   "file_extension": ".py",
   "mimetype": "text/x-python",
   "name": "python",
   "nbconvert_exporter": "python",
   "pygments_lexer": "ipython3",
   "version": "3.12.0"
  }
 },
 "nbformat": 4,
 "nbformat_minor": 2
}
